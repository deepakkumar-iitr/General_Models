{
  "nbformat": 4,
  "nbformat_minor": 0,
  "metadata": {
    "colab": {
      "provenance": []
    },
    "kernelspec": {
      "name": "python3",
      "display_name": "Python 3"
    },
    "language_info": {
      "name": "python"
    }
  },
  "cells": [
    {
      "cell_type": "code",
      "execution_count": 1,
      "metadata": {
        "id": "XgxFvckSG2lE"
      },
      "outputs": [],
      "source": [
        "#import libraries\n",
        "import torch\n",
        "import torchvision\n",
        "import torchvision.transforms as transforms\n",
        "import matplotlib.pyplot as plt\n",
        "import numpy as np\n",
        "import torch.nn as nn"
      ]
    },
    {
      "cell_type": "code",
      "source": [
        "#variables\n",
        "batch_size = 64\n",
        "img_size = 28\n",
        "patch_size = 7\n",
        "num_channels = 1\n",
        "num_patches = (img_size // patch_size) ** 2\n",
        "num_heads = 1\n",
        "embed_dim = 16\n",
        "mlp_dim = 16\n",
        "transformer_units = 1"
      ],
      "metadata": {
        "id": "7kb_K6TVG4jB"
      },
      "execution_count": 2,
      "outputs": []
    },
    {
      "cell_type": "code",
      "source": [
        "#Python image library (PIL) to tensor\n",
        "transform = transforms.Compose(\n",
        "    [transforms.ToTensor()])"
      ],
      "metadata": {
        "id": "jy7vXlSJG-h-"
      },
      "execution_count": 3,
      "outputs": []
    },
    {
      "cell_type": "code",
      "source": [
        "#load dataset\n",
        "trainset = torchvision.datasets.MNIST(root='./data', train=True,\n",
        "                                        download=True, transform=transform)\n",
        "valset = torchvision.datasets.MNIST(root='./data', train=False,\n",
        "                                        download=True, transform=transform)"
      ],
      "metadata": {
        "colab": {
          "base_uri": "https://localhost:8080/"
        },
        "id": "IJ39Fo14HA82",
        "outputId": "3523f29a-6217-420a-ac83-dda73e0c8772"
      },
      "execution_count": 4,
      "outputs": [
        {
          "output_type": "stream",
          "name": "stderr",
          "text": [
            "100%|██████████| 9.91M/9.91M [00:00<00:00, 11.7MB/s]\n",
            "100%|██████████| 28.9k/28.9k [00:00<00:00, 342kB/s]\n",
            "100%|██████████| 1.65M/1.65M [00:00<00:00, 3.18MB/s]\n",
            "100%|██████████| 4.54k/4.54k [00:00<00:00, 4.95MB/s]\n"
          ]
        }
      ]
    },
    {
      "cell_type": "code",
      "source": [
        "#create train and val batches\n",
        "train_data = torch.utils.data.DataLoader(trainset, batch_size=batch_size,\n",
        "                                          shuffle=True)\n",
        "val_data = torch.utils.data.DataLoader(valset, batch_size=batch_size,\n",
        "                                          shuffle=False)"
      ],
      "metadata": {
        "id": "TipTgWf8HCzQ"
      },
      "execution_count": 6,
      "outputs": []
    },
    {
      "cell_type": "code",
      "source": [
        "class PatchEmbedding(nn.Module):\n",
        "    def __init__(self):\n",
        "        super().__init__()\n",
        "        self.patch_embed = nn.Conv2d(num_channels, embed_dim, kernel_size=patch_size, stride=patch_size)\n",
        "\n",
        "    def forward(self, x):\n",
        "        x = self.patch_embed(x)\n",
        "        x = x.flatten(2)\n",
        "        x = x.transpose(1,2)\n",
        "        return x"
      ],
      "metadata": {
        "id": "NDHeHhIsHFXU"
      },
      "execution_count": 7,
      "outputs": []
    },
    {
      "cell_type": "code",
      "source": [
        "class TransformerArchitecture(nn.Module):\n",
        "    def __init__(self):\n",
        "        super().__init__()\n",
        "        self.layer_norm_1 = nn.LayerNorm(embed_dim)\n",
        "        self.self_attention = nn.MultiheadAttention(embed_dim, num_heads, batch_first=True)\n",
        "        self.layer_norm_2 = nn.LayerNorm(embed_dim)\n",
        "        self.multi_layer_perceptron = nn.Sequential(\n",
        "            nn.Linear(embed_dim, mlp_dim),\n",
        "            nn.GELU(),\n",
        "            nn.Linear(mlp_dim, embed_dim)\n",
        "        )\n",
        "\n",
        "    def forward(self, x):\n",
        "        residual_1 = x\n",
        "        attention_output = self.self_attention(self.layer_norm_1(x),self.layer_norm_1(x),self.layer_norm_1(x))[0]\n",
        "        x = attention_output + residual_1\n",
        "        residual_2 = x\n",
        "        mlp_output = self.multi_layer_perceptron(self.layer_norm_2(x))\n",
        "        x = mlp_output + residual_2\n",
        "        return x\n"
      ],
      "metadata": {
        "id": "ZKPcVxMBHJZl"
      },
      "execution_count": 8,
      "outputs": []
    },
    {
      "cell_type": "code",
      "source": [
        "class VisionTransformer(nn.Module):\n",
        "    def __init__(self):\n",
        "        super().__init__()\n",
        "        self.patch_embedding = PatchEmbedding()\n",
        "        self.cls_token = nn.Parameter(torch.randn(1,1,embed_dim))\n",
        "        self.pos_embed = nn.Parameter(torch.randn(1, (img_size // patch_size) ** 2 + 1, embed_dim))\n",
        "        self.transformer_layers = nn.Sequential(*[TransformerArchitecture() for _ in range(transformer_units)])\n",
        "\n",
        "        self.mlp_head = nn.Sequential(\n",
        "            nn.LayerNorm(embed_dim),\n",
        "            nn.Linear(embed_dim, 10)\n",
        "        )\n",
        "\n",
        "    def forward(self,x):\n",
        "        x = self.patch_embedding(x)\n",
        "        B = x.size(0)\n",
        "\n",
        "        cls_tokens = self.cls_token.expand(B , -1, -1)\n",
        "        x = torch.cat((cls_tokens, x), dim=1)\n",
        "        x = x + self.pos_embed\n",
        "        x = self.transformer_layers(x)\n",
        "        x = x[:,0]\n",
        "        x = self.mlp_head(x)\n",
        "        return x"
      ],
      "metadata": {
        "id": "dtoGETq5HKGE"
      },
      "execution_count": 9,
      "outputs": []
    },
    {
      "cell_type": "code",
      "source": [
        "device = torch.device(\"cuda\" if torch.cuda.is_available() else \"cpu\")\n",
        "model = VisionTransformer().to(device)\n",
        "optimizer = torch.optim.Adam(model.parameters(), lr=0.01)\n",
        "criterion = nn.CrossEntropyLoss()"
      ],
      "metadata": {
        "id": "v9QWoOryHOXz"
      },
      "execution_count": 10,
      "outputs": []
    },
    {
      "cell_type": "code",
      "source": [
        "for epoch in range(5):\n",
        "    model.train()\n",
        "    total_loss = 0\n",
        "    correct_epoch = 0\n",
        "    total_epoch = 0\n",
        "    print(f\"\\nEpoch {epoch+1}\")\n",
        "\n",
        "    for batch_idx, (images, labels) in enumerate(train_data):\n",
        "        images, labels = images.to(device), labels.to(device)\n",
        "        optimizer.zero_grad()\n",
        "        outputs = model(images)\n",
        "\n",
        "        loss = criterion(outputs, labels)\n",
        "        loss.backward()\n",
        "        optimizer.step()\n",
        "\n",
        "        total_loss+=loss.item()\n",
        "        preds = outputs.argmax(dim=1)\n",
        "\n",
        "        correct = (preds == labels).sum().item()\n",
        "        accuracy = 100.0 * correct / labels.size(0)\n",
        "\n",
        "        correct_epoch += correct\n",
        "        total_epoch += labels.size(0)\n",
        "\n",
        "        if batch_idx % 100 == 0:\n",
        "            print(f\"  Batch {batch_idx+1:3d}: Loss = {loss.item():.4f}, Accuracy = {accuracy:.2f}%\")\n",
        "\n",
        "    epoch_acc = 100.0 * correct_epoch / total_epoch\n",
        "    print(f\"==> Epoch {epoch+1} Summary: Total Loss = {total_loss:.4f}, Accuracy = {epoch_acc:.2f}%\")"
      ],
      "metadata": {
        "colab": {
          "base_uri": "https://localhost:8080/"
        },
        "id": "b_S-O-svHOfB",
        "outputId": "bffd7d66-5f32-45a0-e096-63180f0a42d6"
      },
      "execution_count": 11,
      "outputs": [
        {
          "output_type": "stream",
          "name": "stdout",
          "text": [
            "\n",
            "Epoch 1\n",
            "  Batch   1: Loss = 2.4958, Accuracy = 9.38%\n",
            "  Batch 101: Loss = 1.2618, Accuracy = 51.56%\n",
            "  Batch 201: Loss = 0.9814, Accuracy = 62.50%\n",
            "  Batch 301: Loss = 0.7563, Accuracy = 73.44%\n",
            "  Batch 401: Loss = 0.9335, Accuracy = 70.31%\n",
            "  Batch 501: Loss = 0.6970, Accuracy = 76.56%\n",
            "  Batch 601: Loss = 0.8725, Accuracy = 68.75%\n",
            "  Batch 701: Loss = 0.6465, Accuracy = 78.12%\n",
            "  Batch 801: Loss = 0.5627, Accuracy = 78.12%\n",
            "  Batch 901: Loss = 0.5662, Accuracy = 79.69%\n",
            "==> Epoch 1 Summary: Total Loss = 853.7784, Accuracy = 68.66%\n",
            "\n",
            "Epoch 2\n",
            "  Batch   1: Loss = 0.5974, Accuracy = 78.12%\n",
            "  Batch 101: Loss = 0.6522, Accuracy = 76.56%\n",
            "  Batch 201: Loss = 0.7323, Accuracy = 78.12%\n",
            "  Batch 301: Loss = 0.4323, Accuracy = 84.38%\n",
            "  Batch 401: Loss = 0.7547, Accuracy = 81.25%\n",
            "  Batch 501: Loss = 0.3807, Accuracy = 85.94%\n",
            "  Batch 601: Loss = 0.5362, Accuracy = 82.81%\n",
            "  Batch 701: Loss = 0.5681, Accuracy = 81.25%\n",
            "  Batch 801: Loss = 0.3301, Accuracy = 89.06%\n",
            "  Batch 901: Loss = 0.7454, Accuracy = 81.25%\n",
            "==> Epoch 2 Summary: Total Loss = 531.0414, Accuracy = 82.06%\n",
            "\n",
            "Epoch 3\n",
            "  Batch   1: Loss = 0.6877, Accuracy = 75.00%\n",
            "  Batch 101: Loss = 0.3907, Accuracy = 89.06%\n",
            "  Batch 201: Loss = 0.7534, Accuracy = 70.31%\n",
            "  Batch 301: Loss = 0.6174, Accuracy = 82.81%\n",
            "  Batch 401: Loss = 0.3910, Accuracy = 87.50%\n",
            "  Batch 501: Loss = 0.5746, Accuracy = 81.25%\n",
            "  Batch 601: Loss = 0.5043, Accuracy = 85.94%\n",
            "  Batch 701: Loss = 0.4540, Accuracy = 85.94%\n",
            "  Batch 801: Loss = 0.3918, Accuracy = 90.62%\n",
            "  Batch 901: Loss = 0.3883, Accuracy = 84.38%\n",
            "==> Epoch 3 Summary: Total Loss = 463.4943, Accuracy = 84.38%\n",
            "\n",
            "Epoch 4\n",
            "  Batch   1: Loss = 0.5400, Accuracy = 79.69%\n",
            "  Batch 101: Loss = 0.3133, Accuracy = 87.50%\n",
            "  Batch 201: Loss = 0.6597, Accuracy = 82.81%\n",
            "  Batch 301: Loss = 0.3542, Accuracy = 89.06%\n",
            "  Batch 401: Loss = 0.4580, Accuracy = 84.38%\n",
            "  Batch 501: Loss = 0.2812, Accuracy = 90.62%\n",
            "  Batch 601: Loss = 0.7455, Accuracy = 78.12%\n",
            "  Batch 701: Loss = 0.4722, Accuracy = 85.94%\n",
            "  Batch 801: Loss = 0.2043, Accuracy = 93.75%\n",
            "  Batch 901: Loss = 0.5388, Accuracy = 82.81%\n",
            "==> Epoch 4 Summary: Total Loss = 426.2753, Accuracy = 85.71%\n",
            "\n",
            "Epoch 5\n",
            "  Batch   1: Loss = 0.6816, Accuracy = 79.69%\n",
            "  Batch 101: Loss = 0.3139, Accuracy = 92.19%\n",
            "  Batch 201: Loss = 0.4851, Accuracy = 89.06%\n",
            "  Batch 301: Loss = 0.4615, Accuracy = 90.62%\n",
            "  Batch 401: Loss = 0.5081, Accuracy = 85.94%\n",
            "  Batch 501: Loss = 0.3275, Accuracy = 85.94%\n",
            "  Batch 601: Loss = 0.6179, Accuracy = 84.38%\n",
            "  Batch 701: Loss = 0.3891, Accuracy = 89.06%\n",
            "  Batch 801: Loss = 0.4232, Accuracy = 92.19%\n",
            "  Batch 901: Loss = 0.3226, Accuracy = 87.50%\n",
            "==> Epoch 5 Summary: Total Loss = 404.1221, Accuracy = 86.52%\n"
          ]
        }
      ]
    },
    {
      "cell_type": "code",
      "source": [
        "model.eval()\n",
        "correct = 0\n",
        "total = 0\n",
        "\n",
        "with torch.no_grad():\n",
        "    for images, labels in val_data:\n",
        "        images, labels = images.to(device), labels.to(device)\n",
        "        outputs = model(images)\n",
        "        preds = outputs.argmax(dim=1)\n",
        "        correct += (preds == labels).sum().item()\n",
        "        total += labels.size(0)\n",
        "\n",
        "test_acc = 100.0 * correct / total\n",
        "print(f\"\\n==> Val Accuracy: {test_acc:.2f}%\")\n"
      ],
      "metadata": {
        "colab": {
          "base_uri": "https://localhost:8080/"
        },
        "id": "q3Y_INiaHTUW",
        "outputId": "98e2efbb-297e-4ff2-8365-56f3b3259d0d"
      },
      "execution_count": 12,
      "outputs": [
        {
          "output_type": "stream",
          "name": "stdout",
          "text": [
            "\n",
            "==> Val Accuracy: 86.50%\n"
          ]
        }
      ]
    },
    {
      "cell_type": "code",
      "source": [
        "model.eval()\n",
        "images, labels = next(iter(val_data))\n",
        "images, labels = images.to(device), labels.to(device)\n",
        "\n",
        "with torch.no_grad():\n",
        "    outputs = model(images)\n",
        "    preds = outputs.argmax(dim=1)\n",
        "\n",
        "# Plot 10 test images with predictions\n",
        "plt.figure(figsize=(12, 4))\n",
        "for i in range(20):\n",
        "    plt.subplot(4, 5, i+1)\n",
        "    plt.imshow(images[i].squeeze(), cmap='gray')\n",
        "    plt.title(f\"Pred: {preds[i].item()}\\nTrue: {labels[i].item()}\")\n",
        "    plt.axis('off')\n",
        "plt.tight_layout()\n",
        "plt.show()"
      ],
      "metadata": {
        "colab": {
          "base_uri": "https://localhost:8080/",
          "height": 407
        },
        "id": "ojmw9krjHcya",
        "outputId": "9c992ebb-fd41-44fd-cb44-f6196f9c6fd7"
      },
      "execution_count": 13,
      "outputs": [
        {
          "output_type": "display_data",
          "data": {
            "text/plain": [
              "<Figure size 1200x400 with 20 Axes>"
            ],
            "image/png": "[encoded data removed]"
          },
          "metadata": {}
        }
      ]
    },
    {
      "cell_type": "code",
      "source": [
        "# Get one batch from the validation data\n",
        "images, labels = next(iter(val_data))\n",
        "\n",
        "# Print the shape of the images tensor\n",
        "print(\"Shape of images in a batch:\", images.shape)\n",
        "patch_embed = nn.Conv2d(num_channels, embed_dim, kernel_size=patch_size, stride=patch_size)\n",
        "embedded_data = patch_embed(images)\n",
        "embedded_data = embedded_data.flatten(2)\n",
        "embedded_data = embedded_data.transpose(1,2)\n",
        "print(\"Shape of embedded data:\", embedded_data.shape)\n",
        "print(torch.randn(1,1,embed_dim).shape)\n",
        "\n",
        "# You can also print the shape of the labels tensor if you'd like\n",
        "# print(\"Shape of labels in a batch:\", labels.shape)"
      ],
      "metadata": {
        "colab": {
          "base_uri": "https://localhost:8080/"
        },
        "id": "7Az6NYIiHdWK",
        "outputId": "f3c47990-f765-4062-eb68-0d88d160f70f"
      },
      "execution_count": 14,
      "outputs": [
        {
          "output_type": "stream",
          "name": "stdout",
          "text": [
            "Shape of images in a batch: torch.Size([64, 1, 28, 28])\n",
            "Shape of embedded data: torch.Size([64, 16, 16])\n",
            "torch.Size([1, 1, 16])\n"
          ]
        }
      ]
    },
    {
      "cell_type": "code",
      "source": [],
      "metadata": {
        "id": "cAdVN-zKHtYW"
      },
      "execution_count": null,
      "outputs": []
    }
  ]
}